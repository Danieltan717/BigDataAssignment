{
 "cells": [
  {
   "cell_type": "code",
   "execution_count": 7,
   "id": "b4513a78-469a-4ee9-bebc-9d2bd0f4451e",
   "metadata": {},
   "outputs": [
    {
     "name": "stdout",
     "output_type": "stream",
     "text": [
      "                           order_id                       customer_id  \\\n",
      "0  e481f51cbdc54678b7cc49136f2d6af7  9ef432eb6251297304e76186b10a928d   \n",
      "1  53cdb2fc8bc7dce0b6741e2150273451  b0830fb4747a6c6d20dea0b8c802d7ef   \n",
      "2  47770eb9100c2d0c44946d9cf07ec65d  41ce2a54c0b03bf3443c3d931a367089   \n",
      "3  949d5b44dbf5de918fe9c16f97b45f8a  f88197465ea7920adcdbec7375364d82   \n",
      "4  ad21c59c0840e6cb83a9ceb5573f8159  8ab97904e6daea8866dbdbc4fb7aad2c   \n",
      "\n",
      "  order_status order_purchase_timestamp    order_approved_at  \\\n",
      "0    delivered      2017-10-02 10:56:33  2017-10-02 11:07:15   \n",
      "1    delivered      2018-07-24 20:41:37  2018-07-26 03:24:27   \n",
      "2    delivered      2018-08-08 08:38:49  2018-08-08 08:55:23   \n",
      "3    delivered      2017-11-18 19:28:06  2017-11-18 19:45:59   \n",
      "4    delivered      2018-02-13 21:18:39  2018-02-13 22:20:29   \n",
      "\n",
      "  order_delivered_carrier_date order_delivered_customer_date  \\\n",
      "0          2017-10-04 19:55:00           2017-10-10 21:25:13   \n",
      "1          2018-07-26 14:31:00           2018-08-07 15:27:45   \n",
      "2          2018-08-08 13:50:00           2018-08-17 18:06:29   \n",
      "3          2017-11-22 13:39:59           2017-12-02 00:28:42   \n",
      "4          2018-02-14 19:46:34           2018-02-16 18:17:02   \n",
      "\n",
      "  order_estimated_delivery_date  \n",
      "0           2017-10-18 00:00:00  \n",
      "1           2018-08-13 00:00:00  \n",
      "2           2018-09-04 00:00:00  \n",
      "3           2017-12-15 00:00:00  \n",
      "4           2018-02-26 00:00:00  \n"
     ]
    }
   ],
   "source": [
    "import pandas as pd\n",
    "\n",
    "# Load the dataset\n",
    "orders = pd.read_csv('olist_orders_dataset.csv')\n",
    "\n",
    "# Filter for orders with status 'delivered'\n",
    "orders = orders[orders['order_status'].str.lower() == 'delivered']\n",
    "\n",
    "# Display the filtered dataset\n",
    "print(orders.head())"
   ]
  },
  {
   "cell_type": "code",
   "execution_count": 11,
   "id": "f9da7fad-fc5f-4959-a2c6-9e78939385e8",
   "metadata": {},
   "outputs": [],
   "source": [
    "orders = pd.read_csv('olist_orders_dataset.csv')\n",
    "order_items = pd.read_csv('olist_order_items_dataset.csv')\n",
    "products = pd.read_csv('olist_products_dataset.csv')\n",
    "customers = pd.read_csv('olist_customers_dataset.csv')"
   ]
  },
  {
   "cell_type": "code",
   "execution_count": 13,
   "id": "7da6399a-9b7e-4266-aa5d-e87de928320b",
   "metadata": {},
   "outputs": [],
   "source": [
    "# Step 2: Convert order_purchase_timestamp to datetime\n",
    "orders['order_purchase_timestamp'] = pd.to_datetime(orders['order_purchase_timestamp'])\n",
    "\n",
    "# Step 3: Extract time components\n",
    "orders['order_year'] = orders['order_purchase_timestamp'].dt.year\n",
    "orders['order_month'] = orders['order_purchase_timestamp'].dt.month\n",
    "orders['order_day_of_week'] = orders['order_purchase_timestamp'].dt.day_name()"
   ]
  },
  {
   "cell_type": "code",
   "execution_count": 15,
   "id": "e36d3188-acc0-48fe-bd0d-af75c8907109",
   "metadata": {},
   "outputs": [],
   "source": [
    "# Step 4: Merge datasets\n",
    "# Merge orders with order items\n",
    "orders_items = pd.merge(order_items, orders, on='order_id', how='inner')\n",
    "\n",
    "# Merge the resulting DataFrame with the products dataset\n",
    "full_data = pd.merge(orders_items, products, on='product_id', how='inner')\n",
    "\n",
    "# Merge with customer data to include location details\n",
    "full_data = pd.merge(full_data, customers, on='customer_id', how='inner')"
   ]
  },
  {
   "cell_type": "code",
   "execution_count": 17,
   "id": "7ad88b8f-a5d5-436f-97c0-742babd27ada",
   "metadata": {},
   "outputs": [
    {
     "name": "stdout",
     "output_type": "stream",
     "text": [
      "                           order_id  order_item_id  \\\n",
      "0  00010242fe8c5a6d1ba2dd792cb16214              1   \n",
      "1  00018f77f2f0320c557190d7a144bdd3              1   \n",
      "2  000229ec398224ef6ca0657da4fc703e              1   \n",
      "3  00024acbcdf0a6daa1e931b038114c75              1   \n",
      "4  00042b26cf59d7ce69dfabb4e55b4fd9              1   \n",
      "\n",
      "                         product_id                         seller_id  \\\n",
      "0  4244733e06e7ecb4970a6e2683c13e61  48436dade18ac8b2bce089ec2a041202   \n",
      "1  e5f2d52b802189ee658865ca93d83a8f  dd7ddc04e1b6c2c614352b383efe2d36   \n",
      "2  c777355d18b72b67abbeef9df44fd0fd  5b51032eddd242adc84c38acab88f23d   \n",
      "3  7634da152a4610f1595efa32f14722fc  9d7a1d34a5052409006425275ba1c2b4   \n",
      "4  ac6c3623068f30de03045865e4e10089  df560393f3a51e74553ab94004ba5c87   \n",
      "\n",
      "   shipping_limit_date   price  freight_value  \\\n",
      "0  2017-09-19 09:45:35   58.90          13.29   \n",
      "1  2017-05-03 11:05:13  239.90          19.93   \n",
      "2  2018-01-18 14:48:30  199.00          17.87   \n",
      "3  2018-08-15 10:10:18   12.99          12.79   \n",
      "4  2017-02-13 13:57:51  199.90          18.14   \n",
      "\n",
      "                        customer_id order_status order_purchase_timestamp  \\\n",
      "0  3ce436f183e68e07877b285a838db11a    delivered      2017-09-13 08:59:02   \n",
      "1  f6dd3ec061db4e3987629fe6b26e5cce    delivered      2017-04-26 10:53:06   \n",
      "2  6489ae5e4333f3693df5ad4372dab6d3    delivered      2018-01-14 14:33:31   \n",
      "3  d4eb9395c8c0431ee92fce09860c5a06    delivered      2018-08-08 10:00:35   \n",
      "4  58dbd0b2d70206bf40e62cd34e84d795    delivered      2017-02-04 13:57:51   \n",
      "\n",
      "   ... product_description_lenght product_photos_qty product_weight_g  \\\n",
      "0  ...                      598.0                4.0            650.0   \n",
      "1  ...                      239.0                2.0          30000.0   \n",
      "2  ...                      695.0                2.0           3050.0   \n",
      "3  ...                      480.0                1.0            200.0   \n",
      "4  ...                      409.0                1.0           3750.0   \n",
      "\n",
      "  product_length_cm  product_height_cm  product_width_cm  \\\n",
      "0              28.0                9.0              14.0   \n",
      "1              50.0               30.0              40.0   \n",
      "2              33.0               13.0              33.0   \n",
      "3              16.0               10.0              15.0   \n",
      "4              35.0               40.0              30.0   \n",
      "\n",
      "                 customer_unique_id customer_zip_code_prefix  \\\n",
      "0  871766c5855e863f6eccc05f988b23cb                    28013   \n",
      "1  eb28e67c4c0b83846050ddfb8a35d051                    15775   \n",
      "2  3818d81c6709e39d06b2738a8d3a2474                    35661   \n",
      "3  af861d436cfc08b2c2ddefd0ba074622                    12952   \n",
      "4  64b576fb70d441e8f1b2d7d446e483c5                    13226   \n",
      "\n",
      "           customer_city  customer_state  \n",
      "0  campos dos goytacazes              RJ  \n",
      "1        santa fe do sul              SP  \n",
      "2          para de minas              MG  \n",
      "3                atibaia              SP  \n",
      "4        varzea paulista              SP  \n",
      "\n",
      "[5 rows x 29 columns]\n"
     ]
    }
   ],
   "source": [
    "print(full_data.head())"
   ]
  },
  {
   "cell_type": "code",
   "execution_count": 19,
   "id": "d807f83d-9f84-4680-9aad-171b60afd2e6",
   "metadata": {},
   "outputs": [
    {
     "name": "stdout",
     "output_type": "stream",
     "text": [
      "                           order_id                       customer_id  \\\n",
      "0  00010242fe8c5a6d1ba2dd792cb16214  3ce436f183e68e07877b285a838db11a   \n",
      "1  00018f77f2f0320c557190d7a144bdd3  f6dd3ec061db4e3987629fe6b26e5cce   \n",
      "2  000229ec398224ef6ca0657da4fc703e  6489ae5e4333f3693df5ad4372dab6d3   \n",
      "3  00024acbcdf0a6daa1e931b038114c75  d4eb9395c8c0431ee92fce09860c5a06   \n",
      "4  00042b26cf59d7ce69dfabb4e55b4fd9  58dbd0b2d70206bf40e62cd34e84d795   \n",
      "\n",
      "           customer_city customer_state product_category_name   price  \\\n",
      "0  campos dos goytacazes             RJ            cool_stuff   58.90   \n",
      "1        santa fe do sul             SP              pet_shop  239.90   \n",
      "2          para de minas             MG      moveis_decoracao  199.00   \n",
      "3                atibaia             SP            perfumaria   12.99   \n",
      "4        varzea paulista             SP    ferramentas_jardim  199.90   \n",
      "\n",
      "   order_year  order_month order_day_of_week  \n",
      "0        2017            9         Wednesday  \n",
      "1        2017            4         Wednesday  \n",
      "2        2018            1            Sunday  \n",
      "3        2018            8         Wednesday  \n",
      "4        2017            2          Saturday  \n"
     ]
    }
   ],
   "source": [
    "full_data = full_data[['order_id', 'customer_id', 'customer_city', 'customer_state', \n",
    "                       'product_category_name', 'price', \n",
    "                       'order_year', 'order_month', 'order_day_of_week']]\n",
    "print(full_data.head())"
   ]
  },
  {
   "cell_type": "code",
   "execution_count": 21,
   "id": "02d47e57-e09e-454c-9ad3-00499617719f",
   "metadata": {},
   "outputs": [],
   "source": [
    "full_data.dropna(subset=['product_category_name', 'price', 'customer_city', \n",
    "                          'customer_state', 'order_year', 'order_month'], inplace=True)"
   ]
  },
  {
   "cell_type": "code",
   "execution_count": 29,
   "id": "75048e44-d243-4b4b-b6a6-195b24e1c040",
   "metadata": {},
   "outputs": [],
   "source": [
    "category_translation = pd.read_csv('product_category_name_translation.csv')\n",
    "full_data = pd.merge(full_data, category_translation, on='product_category_name', how='left')"
   ]
  },
  {
   "cell_type": "code",
   "execution_count": 31,
   "id": "26472425-5530-4980-ba50-4d4d67cdf4fb",
   "metadata": {},
   "outputs": [
    {
     "name": "stdout",
     "output_type": "stream",
     "text": [
      "                           order_id                       customer_id  \\\n",
      "0  00010242fe8c5a6d1ba2dd792cb16214  3ce436f183e68e07877b285a838db11a   \n",
      "1  00018f77f2f0320c557190d7a144bdd3  f6dd3ec061db4e3987629fe6b26e5cce   \n",
      "2  000229ec398224ef6ca0657da4fc703e  6489ae5e4333f3693df5ad4372dab6d3   \n",
      "3  00024acbcdf0a6daa1e931b038114c75  d4eb9395c8c0431ee92fce09860c5a06   \n",
      "4  00042b26cf59d7ce69dfabb4e55b4fd9  58dbd0b2d70206bf40e62cd34e84d795   \n",
      "\n",
      "           customer_city customer_state product_category_name   price  \\\n",
      "0  campos dos goytacazes             RJ            cool_stuff   58.90   \n",
      "1        santa fe do sul             SP              pet_shop  239.90   \n",
      "2          para de minas             MG      moveis_decoracao  199.00   \n",
      "3                atibaia             SP            perfumaria   12.99   \n",
      "4        varzea paulista             SP    ferramentas_jardim  199.90   \n",
      "\n",
      "   order_year  order_month order_day_of_week product_category_name_english  \n",
      "0        2017            9         Wednesday                    cool_stuff  \n",
      "1        2017            4         Wednesday                      pet_shop  \n",
      "2        2018            1            Sunday               furniture_decor  \n",
      "3        2018            8         Wednesday                     perfumery  \n",
      "4        2017            2          Saturday                  garden_tools  \n"
     ]
    }
   ],
   "source": [
    "print(full_data.head())"
   ]
  },
  {
   "cell_type": "code",
   "execution_count": 39,
   "id": "3ca6a945-cb53-44c2-982b-2d7215f90003",
   "metadata": {},
   "outputs": [],
   "source": [
    "full_data = full_data[['order_id', 'customer_id', 'customer_city', 'customer_state', \n",
    "                       'product_category_name_english', 'price', \n",
    "                       'order_year', 'order_month', 'order_day_of_week']]"
   ]
  },
  {
   "cell_type": "code",
   "execution_count": 41,
   "id": "31b822a1-169c-4a86-8e9d-25f7ea365a84",
   "metadata": {},
   "outputs": [],
   "source": [
    "full_data.to_csv('cleaned_full_data.csv', index=False)"
   ]
  },
  {
   "cell_type": "code",
   "execution_count": null,
   "id": "0ffc401b-e97b-40a5-95e7-c3f530a5ca4e",
   "metadata": {},
   "outputs": [],
   "source": []
  }
 ],
 "metadata": {
  "kernelspec": {
   "display_name": "Python 3 (ipykernel)",
   "language": "python",
   "name": "python3"
  },
  "language_info": {
   "codemirror_mode": {
    "name": "ipython",
    "version": 3
   },
   "file_extension": ".py",
   "mimetype": "text/x-python",
   "name": "python",
   "nbconvert_exporter": "python",
   "pygments_lexer": "ipython3",
   "version": "3.12.4"
  }
 },
 "nbformat": 4,
 "nbformat_minor": 5
}
